{
 "cells": [
  {
   "cell_type": "code",
   "execution_count": 1,
   "id": "ab25990b-3926-4af0-8b93-3000ae2c0f13",
   "metadata": {},
   "outputs": [],
   "source": [
    "#Q1. What is Statistics?"
   ]
  },
  {
   "cell_type": "code",
   "execution_count": null,
   "id": "773a8bb3-0277-4216-bc96-007c18aa7d9b",
   "metadata": {},
   "outputs": [],
   "source": [
    "\n",
    "Statistics is a branch of mathematics that deals with the collection, analysis, interpretation, presentation,\n",
    "and organization of data. It involves the use of mathematical techniques and models to gather insights, make \n",
    "predictions, and draw conclusions from data. Statistics plays a crucial role in various fields such as science,\n",
    "business, economics, social sciences, and more. It involves methods for data collection, summarization, descriptive \n",
    "statistics, inferential statistics, hypothesis testing, regression analysis, and probability theory, among others. \n",
    "The ultimate goal of statistics is \n",
    "to provide a systematic and objective approach to understanding and making decisions based on data."
   ]
  },
  {
   "cell_type": "code",
   "execution_count": null,
   "id": "27a9056c-6dfc-4e97-9aea-96beb8f2a4c7",
   "metadata": {},
   "outputs": [],
   "source": [
    "Question 2: Define the different types of statistics and give an example of when each type might be used."
   ]
  },
  {
   "cell_type": "code",
   "execution_count": null,
   "id": "60bd032d-9929-479f-aed8-6dc88ecbb3b7",
   "metadata": {},
   "outputs": [],
   "source": [
    "#Ans\n",
    "There are two main types of statistics: descriptive and inferential.\n",
    "\n",
    "Descriptive statistics are used to describe data. They can be used to summarize data, find patterns in data,\n",
    "and make comparisons between different sets of data. Some examples of descriptive statistics include:\n",
    "\n",
    "Mean: The average value of a set of data. Median: The middle value of a set of data. Mode: The most common value in \n",
    "a set of data. Range: The difference between the highest and lowest values in a set of data. Variance: A measure of how\n",
    "spread out the data is. Standard deviation: A measure of how much variation there is in the data. Inferential statistics\n",
    "are used to make inferences about a population based on a sample. They can be used to test hypotheses, make predictions,\n",
    "and draw conclusions. Some examples of inferential statistics include:\n",
    "\n",
    "T-test: A test to compare the means of two groups. ANOVA: A test to compare the means of three or more groups.\n",
    "Chi-squared test: A test to compare the distribution of data to a known distribution. Regression analysis: A method to\n",
    "predict the value of one variable from another variable. Here are some examples of when each type of statistics might\n",
    "be used:\n",
    "\n",
    "A company might use descriptive statistics to summarize the results of a survey of its customers. A government agency \n",
    "might use descriptive statistics to track the unemployment rate over time. A scientist might use inferential statistics \n",
    "to test the hypothesis that a new drug is effective in treating a disease. A business might use inferential statistics \n",
    "to predict the demand for a new product. Statistics is a powerful tool that can be used to make sense of data. By \n",
    "understanding the different types of statistics, you can use them to answer questions, make decisions, and solve \n",
    "problems."
   ]
  },
  {
   "cell_type": "code",
   "execution_count": null,
   "id": "8d4cc313-2688-41ae-82b1-f1fae3fc02ae",
   "metadata": {},
   "outputs": [],
   "source": [
    "Question 3: What are the different types of data and how do they differ from each other? Provide an example of each type of data.\n"
   ]
  },
  {
   "cell_type": "code",
   "execution_count": null,
   "id": "4d5e2234-fa92-4678-af8a-50f7fdeed9e6",
   "metadata": {},
   "outputs": [],
   "source": [
    "#Ans\n",
    "There are two main types of data: quantitative and qualitative.\n",
    "\n",
    "Quantitative data is data that can be measured and expressed in numbers. For example, quantitative data could include\n",
    "the height, weight, age, or income of a person. Qualitative data is data that cannot be measured or expressed in numbers. For example, qualitative data could include the color of someone's eyes, their favorite food, or their opinion on a certain issue. Quantitative data can be further classified into four types:\n",
    "\n",
    "Categorical data is data that can be classified into categories. For example, categorical data could include the gender \n",
    "of a person, their race, or their political affiliation. Ordinal data is data that can be ranked in order. For example,\n",
    "ordinal data could include the ranking of students in a class, the finish times of runners in a race, or the severity \n",
    "of a patient's illness. Interval data is data that can be ranked in order and has equal intervals between the values. \n",
    "For example, interval data could include the temperature on a Celsius scale, the pH of a solution, or the time it takes\n",
    "to complete a task. Ratio data is data that can be ranked in order, has equal intervals between the values, and has a\n",
    "true zero. For example, ratio data could include the weight of an object, the distance between two points, or the speed \n",
    "of an object. Here are some examples of each type of data:\n",
    "\n",
    "Categorical data: Gender: Male, Female Race: White, Black, Hispanic, Asian, Native American Political affiliation:\n",
    "    Democrat, Republican, Independent Ordinal data: Ranking of students in a class: 1st, 2nd, 3rd, 4th, 5th Finish \n",
    "    times of runners in a race: 1st, 2nd, 3rd, 4th, 5th Severity of a patient's illness: Mild, Moderate, Severe Interval\n",
    "    data: Temperature on a Celsius scale: 0°C, 10°C, 20°C, 30°C, 40°C pH of a solution: 0, 1, 2, 3, 4, 5, 6, 7, 8, 9, 10\n",
    "    Time it takes to complete a task: 1 minute, 2 minutes, 3 minutes, 4 minutes, 5 minutes Ratio data: Weight of an \n",
    "    object: 1 pound, 2 pounds, 3 pounds, 4 pounds, 5 pounds Distance between two points: 1 mile, 2 miles, 3 miles, 4 \n",
    "    miles, 5 miles Speed of an object: 1 mile per hour, 2 miles per hour, 3 miles per hour, 4 miles per hour, 5 miles \n",
    "    per hour"
   ]
  },
  {
   "cell_type": "code",
   "execution_count": null,
   "id": "2817593a-1474-4748-bae2-35126c6a90dd",
   "metadata": {},
   "outputs": [],
   "source": [
    "Question 4: Categorise the following datasets with respect to quantitative and qualitative data types:\n",
    "1. Grading in exam: A+, A, B+, B, C+, C, D, E\n",
    "2. Colour of mangoes: yellow, green, orange, red\n",
    "3. Height data of a class: [178.9, 179, 179.5, 176, 177.2, 178.3, 175.8,...]\n",
    "4. Number of mangoes exported by a farm: [500, 600, 478, 672, …]"
   ]
  },
  {
   "cell_type": "code",
   "execution_count": null,
   "id": "690900c0-abf6-477e-abfb-4b060bd3e089",
   "metadata": {},
   "outputs": [],
   "source": [
    "#Ans\n",
    "1.Grading in exam: A+, A, B+, B, C+, C, D, E Qualitative data\n",
    "The grading in exam is qualitative data because it cannot be measured or expressed in numbers.\n",
    "The grades are categories that can be assigned to students based on their performance on an exam.\n",
    "2.Colour of mangoes: yellow, green, orange, red Qualitative data\n",
    "The color of mangoes is qualitative data because it cannot be measured or expressed in numbers. \n",
    "The colors are categories that can be assigned to mangoes based on their appearance.\n",
    "3.Height data of a class: [178.9, 179, 179.5, 176, 177.2, 178.3, 175.8,…] Quantitative data\n",
    "The height data of a class is quantitative data because it can be measured and expressed in numbers. \n",
    "The heights are measurements that can be used to compare the heights of different students.\n",
    "4.Number of mangoes exported by a farm: [500, 600, 478, 672, …] Quantitative data\n",
    "The number of mangoes exported by a farm is quantitative data because it can be measured and expressed in numbers.\n",
    "The numbers are measurements that can be used to compare the number of mangoes exported by different farms."
   ]
  },
  {
   "cell_type": "code",
   "execution_count": null,
   "id": "b9805d0a-2714-49dd-9e18-34ebbd78c6bb",
   "metadata": {},
   "outputs": [],
   "source": [
    "Question 5 : Explain the concept of levels of measurement and give an example of a variable for each level"
   ]
  },
  {
   "cell_type": "code",
   "execution_count": null,
   "id": "2772e564-354d-4a20-8afe-7ad3bcb36339",
   "metadata": {},
   "outputs": [],
   "source": [
    "#Ans\n",
    "The levels of measurement are a way of classifying data based on the amount of information that is contained in the data. There are four levels of measurement: nominal, ordinal, interval, and ratio.\n",
    "\n",
    "Nominal data is the least informative level of measurement. Nominal data can only be used to classify data into categories. For example, the variable \"gender\" can be categorized as \"male\" or \"female.\"\n",
    "Ordinal data is a more informative level of measurement than nominal data. Ordinal data can be ranked in order. For example, the variable \"grade point average\" can be ranked from lowest to highest.\n",
    "Interval data is a more informative level of measurement than ordinal data. Interval data has equal intervals between the values. For example, the variable \"temperature\" can be measured in degrees Celsius or Fahrenheit.\n",
    "Ratio data is the most informative level of measurement. Ratio data has equal intervals between the values and a true zero. For example, the variable \"weight\" can be measured in pounds or kilograms.\n",
    "Here are some examples of variables for each level of measurement:\n",
    "\n",
    "Nominal data:\n",
    "Gender: male, female\n",
    "Race: white, black, Hispanic, Asian, Native American\n",
    "Political affiliation: Democrat, Republican, Independent\n",
    "Ordinal data:\n",
    "Ranking of students in a class: 1st, 2nd, 3rd, 4th, 5th\n",
    "Finish times of runners in a race: 1st, 2nd, 3rd, 4th, 5th\n",
    "Severity of a patient's illness: mild, moderate, severe\n",
    "Interval data:\n",
    "Temperature on a Celsius scale: 0°C, 10°C, 20°C, 30°C, 40°C\n",
    "pH of a solution: 0, 1, 2, 3, 4, 5, 6, 7, 8, 9, 10\n",
    "Time it takes to complete a task: 1 minute, 2 minutes, 3 minutes, 4 minutes, 5 minutes\n",
    "Ratio data:\n",
    "Weight of an object: 1 pound, 2 pounds, 3 pounds, 4 pounds, 5 pounds\n",
    "Distance between two points: 1 mile, 2 miles, 3 miles, 4 miles, 5 miles\n",
    "Speed of an object: 1 mile per hour, 2 miles per hour, 3 miles per hour, 4 miles per hour, 5 miles per hour"
   ]
  },
  {
   "cell_type": "code",
   "execution_count": null,
   "id": "3e95e001-b6be-4979-8a05-33cc7662a81d",
   "metadata": {},
   "outputs": [],
   "source": [
    "Question 6 : Why is it important to understand the level of measurement when analyzing data? Provide an example to illustrate your answer\n"
   ]
  },
  {
   "cell_type": "code",
   "execution_count": null,
   "id": "6705c72e-f844-4bab-a17b-5d8212ff1881",
   "metadata": {},
   "outputs": [],
   "source": [
    "#Ans\n",
    "t is important to understand the level of measurement when analyzing data because the level of measurement determines the type of statistical analysis that can be conducted. For example, nominal data can only be used with descriptive statistics, such as frequency distributions and crosstabs. Ordinal data can be used with descriptive statistics and some inferential statistics, such as t-tests and chi-square tests. \n",
    "Interval data can be used with all types of descriptive statistics and inferential statistics.\n",
    "Ratio data can be used with all types of descriptive statistics and inferential statistics, including multiple \n",
    "regression and analysis of variance.\n",
    "\n",
    "Here is an example to illustrate the importance of understanding the level of measurement when analyzing data.\n",
    "Suppose you are interested in the relationship between gender and income. You collect data on the gender and income \n",
    "of a sample of people. The gender variable is nominal, and the income variable is interval. You cannot use a t-test\n",
    "to compare the mean incomes of men and women because the gender variable is nominal. You can, however, use a chi-square\n",
    "test to compare the distributions of incomes for men and women."
   ]
  },
  {
   "cell_type": "code",
   "execution_count": null,
   "id": "0021907d-b1ca-44e6-949a-a734107f47c7",
   "metadata": {},
   "outputs": [],
   "source": [
    "Question 7: How nominal data type is different from ordinal data type"
   ]
  },
  {
   "cell_type": "code",
   "execution_count": null,
   "id": "c2533dc2-fc0a-4805-bd22-771dce8baeb0",
   "metadata": {},
   "outputs": [],
   "source": [
    "\n",
    "Nominal data and ordinal data are two of the four levels of measurement. The main difference between nominal and ordinal data is that nominal data can only be classified into categories, while ordinal data can be ranked in order.\n",
    "\n",
    "Nominal data is the least informative level of measurement. It can only be used to classify data into categories. For example, the variable \"gender\" can be categorized as \"male\" or \"female.\"\n",
    "\n",
    "Ordinal data is a more informative level of measurement than nominal data. It can be ranked in order. For example, the variable \"grade point average\" can be ranked from lowest to highest.\n",
    "\n",
    "Here is a table that summarizes the differences between nominal and ordinal data:"
   ]
  },
  {
   "cell_type": "code",
   "execution_count": null,
   "id": "d5995f70-b258-4b28-b09e-0646013842df",
   "metadata": {},
   "outputs": [],
   "source": [
    "Question 8 : Which type of plot can be used to display data in terms of range?"
   ]
  }
 ],
 "metadata": {
  "kernelspec": {
   "display_name": "Python 3 (ipykernel)",
   "language": "python",
   "name": "python3"
  },
  "language_info": {
   "codemirror_mode": {
    "name": "ipython",
    "version": 3
   },
   "file_extension": ".py",
   "mimetype": "text/x-python",
   "name": "python",
   "nbconvert_exporter": "python",
   "pygments_lexer": "ipython3",
   "version": "3.10.8"
  }
 },
 "nbformat": 4,
 "nbformat_minor": 5
}
